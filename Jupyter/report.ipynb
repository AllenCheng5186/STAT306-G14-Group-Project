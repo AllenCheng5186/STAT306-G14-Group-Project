{
 "cells": [
  {
   "cell_type": "code",
   "execution_count": 1,
   "metadata": {
    "vscode": {
     "languageId": "r"
    }
   },
   "outputs": [
    {
     "name": "stderr",
     "output_type": "stream",
     "text": [
      "── \u001b[1mAttaching core tidyverse packages\u001b[22m ──────────────────────── tidyverse 2.0.0 ──\n",
      "\u001b[32m✔\u001b[39m \u001b[34mdplyr    \u001b[39m 1.1.4     \u001b[32m✔\u001b[39m \u001b[34mreadr    \u001b[39m 2.1.5\n",
      "\u001b[32m✔\u001b[39m \u001b[34mforcats  \u001b[39m 1.0.0     \u001b[32m✔\u001b[39m \u001b[34mstringr  \u001b[39m 1.5.1\n",
      "\u001b[32m✔\u001b[39m \u001b[34mggplot2  \u001b[39m 3.5.1     \u001b[32m✔\u001b[39m \u001b[34mtibble   \u001b[39m 3.2.1\n",
      "\u001b[32m✔\u001b[39m \u001b[34mlubridate\u001b[39m 1.9.3     \u001b[32m✔\u001b[39m \u001b[34mtidyr    \u001b[39m 1.3.1\n",
      "\u001b[32m✔\u001b[39m \u001b[34mpurrr    \u001b[39m 1.0.2     \n",
      "── \u001b[1mConflicts\u001b[22m ────────────────────────────────────────── tidyverse_conflicts() ──\n",
      "\u001b[31m✖\u001b[39m \u001b[34mdplyr\u001b[39m::\u001b[32mfilter()\u001b[39m masks \u001b[34mstats\u001b[39m::filter()\n",
      "\u001b[31m✖\u001b[39m \u001b[34mdplyr\u001b[39m::\u001b[32mlag()\u001b[39m    masks \u001b[34mstats\u001b[39m::lag()\n",
      "\u001b[36mℹ\u001b[39m Use the conflicted package (\u001b[3m\u001b[34m<http://conflicted.r-lib.org/>\u001b[39m\u001b[23m) to force all conflicts to become errors\n",
      "Loading required package: carData\n",
      "\n",
      "\n",
      "Attaching package: ‘car’\n",
      "\n",
      "\n",
      "The following object is masked from ‘package:dplyr’:\n",
      "\n",
      "    recode\n",
      "\n",
      "\n",
      "The following object is masked from ‘package:purrr’:\n",
      "\n",
      "    some\n",
      "\n",
      "\n"
     ]
    }
   ],
   "source": [
    "library(tidyverse)\n",
    "library(car)\n",
    "library(leaps)\n",
    "\n",
    "options(repr.matrix.max.rows = 8)"
   ]
  },
  {
   "cell_type": "code",
   "execution_count": 2,
   "metadata": {
    "vscode": {
     "languageId": "r"
    }
   },
   "outputs": [],
   "source": [
    "ames_housing <- read.table(\"https://raw.githubusercontent.com/AllenCheng5186/STAT306-G14-Group-Project/refs/heads/main/data/ames-housing.csv\", sep = \",\", header=T)"
   ]
  },
  {
   "cell_type": "code",
   "execution_count": 3,
   "metadata": {
    "vscode": {
     "languageId": "r"
    }
   },
   "outputs": [
    {
     "data": {
      "text/html": [
       "<style>\n",
       ".list-inline {list-style: none; margin:0; padding: 0}\n",
       ".list-inline>li {display: inline-block}\n",
       ".list-inline>li:not(:last-child)::after {content: \"\\00b7\"; padding: 0 .5ex}\n",
       "</style>\n",
       "<ol class=list-inline><li>'Order'</li><li>'PID'</li><li>'MS.SubClass'</li><li>'MS.Zoning'</li><li>'Lot.Frontage'</li><li>'Lot.Area'</li><li>'Street'</li><li>'Alley'</li><li>'Lot.Shape'</li><li>'Land.Contour'</li><li>'Utilities'</li><li>'Lot.Config'</li><li>'Land.Slope'</li><li>'Neighborhood'</li><li>'Condition.1'</li><li>'Condition.2'</li><li>'Bldg.Type'</li><li>'House.Style'</li><li>'Overall.Qual'</li><li>'Overall.Cond'</li><li>'Year.Built'</li><li>'Year.Remod.Add'</li><li>'Roof.Style'</li><li>'Roof.Matl'</li><li>'Exterior.1st'</li><li>'Exterior.2nd'</li><li>'Mas.Vnr.Type'</li><li>'Mas.Vnr.Area'</li><li>'Exter.Qual'</li><li>'Exter.Cond'</li><li>'Foundation'</li><li>'Bsmt.Qual'</li><li>'Bsmt.Cond'</li><li>'Bsmt.Exposure'</li><li>'BsmtFin.Type.1'</li><li>'BsmtFin.SF.1'</li><li>'BsmtFin.Type.2'</li><li>'BsmtFin.SF.2'</li><li>'Bsmt.Unf.SF'</li><li>'Total.Bsmt.SF'</li><li>'Heating'</li><li>'Heating.QC'</li><li>'Central.Air'</li><li>'Electrical'</li><li>'X1st.Flr.SF'</li><li>'X2nd.Flr.SF'</li><li>'Low.Qual.Fin.SF'</li><li>'Gr.Liv.Area'</li><li>'Bsmt.Full.Bath'</li><li>'Bsmt.Half.Bath'</li><li>'Full.Bath'</li><li>'Half.Bath'</li><li>'Bedroom.AbvGr'</li><li>'Kitchen.AbvGr'</li><li>'Kitchen.Qual'</li><li>'TotRms.AbvGrd'</li><li>'Functional'</li><li>'Fireplaces'</li><li>'Fireplace.Qu'</li><li>'Garage.Type'</li><li>'Garage.Yr.Blt'</li><li>'Garage.Finish'</li><li>'Garage.Cars'</li><li>'Garage.Area'</li><li>'Garage.Qual'</li><li>'Garage.Cond'</li><li>'Paved.Drive'</li><li>'Wood.Deck.SF'</li><li>'Open.Porch.SF'</li><li>'Enclosed.Porch'</li><li>'X3Ssn.Porch'</li><li>'Screen.Porch'</li><li>'Pool.Area'</li><li>'Pool.QC'</li><li>'Fence'</li><li>'Misc.Feature'</li><li>'Misc.Val'</li><li>'Mo.Sold'</li><li>'Yr.Sold'</li><li>'Sale.Type'</li><li>'Sale.Condition'</li><li>'SalePrice'</li></ol>\n"
      ],
      "text/latex": [
       "\\begin{enumerate*}\n",
       "\\item 'Order'\n",
       "\\item 'PID'\n",
       "\\item 'MS.SubClass'\n",
       "\\item 'MS.Zoning'\n",
       "\\item 'Lot.Frontage'\n",
       "\\item 'Lot.Area'\n",
       "\\item 'Street'\n",
       "\\item 'Alley'\n",
       "\\item 'Lot.Shape'\n",
       "\\item 'Land.Contour'\n",
       "\\item 'Utilities'\n",
       "\\item 'Lot.Config'\n",
       "\\item 'Land.Slope'\n",
       "\\item 'Neighborhood'\n",
       "\\item 'Condition.1'\n",
       "\\item 'Condition.2'\n",
       "\\item 'Bldg.Type'\n",
       "\\item 'House.Style'\n",
       "\\item 'Overall.Qual'\n",
       "\\item 'Overall.Cond'\n",
       "\\item 'Year.Built'\n",
       "\\item 'Year.Remod.Add'\n",
       "\\item 'Roof.Style'\n",
       "\\item 'Roof.Matl'\n",
       "\\item 'Exterior.1st'\n",
       "\\item 'Exterior.2nd'\n",
       "\\item 'Mas.Vnr.Type'\n",
       "\\item 'Mas.Vnr.Area'\n",
       "\\item 'Exter.Qual'\n",
       "\\item 'Exter.Cond'\n",
       "\\item 'Foundation'\n",
       "\\item 'Bsmt.Qual'\n",
       "\\item 'Bsmt.Cond'\n",
       "\\item 'Bsmt.Exposure'\n",
       "\\item 'BsmtFin.Type.1'\n",
       "\\item 'BsmtFin.SF.1'\n",
       "\\item 'BsmtFin.Type.2'\n",
       "\\item 'BsmtFin.SF.2'\n",
       "\\item 'Bsmt.Unf.SF'\n",
       "\\item 'Total.Bsmt.SF'\n",
       "\\item 'Heating'\n",
       "\\item 'Heating.QC'\n",
       "\\item 'Central.Air'\n",
       "\\item 'Electrical'\n",
       "\\item 'X1st.Flr.SF'\n",
       "\\item 'X2nd.Flr.SF'\n",
       "\\item 'Low.Qual.Fin.SF'\n",
       "\\item 'Gr.Liv.Area'\n",
       "\\item 'Bsmt.Full.Bath'\n",
       "\\item 'Bsmt.Half.Bath'\n",
       "\\item 'Full.Bath'\n",
       "\\item 'Half.Bath'\n",
       "\\item 'Bedroom.AbvGr'\n",
       "\\item 'Kitchen.AbvGr'\n",
       "\\item 'Kitchen.Qual'\n",
       "\\item 'TotRms.AbvGrd'\n",
       "\\item 'Functional'\n",
       "\\item 'Fireplaces'\n",
       "\\item 'Fireplace.Qu'\n",
       "\\item 'Garage.Type'\n",
       "\\item 'Garage.Yr.Blt'\n",
       "\\item 'Garage.Finish'\n",
       "\\item 'Garage.Cars'\n",
       "\\item 'Garage.Area'\n",
       "\\item 'Garage.Qual'\n",
       "\\item 'Garage.Cond'\n",
       "\\item 'Paved.Drive'\n",
       "\\item 'Wood.Deck.SF'\n",
       "\\item 'Open.Porch.SF'\n",
       "\\item 'Enclosed.Porch'\n",
       "\\item 'X3Ssn.Porch'\n",
       "\\item 'Screen.Porch'\n",
       "\\item 'Pool.Area'\n",
       "\\item 'Pool.QC'\n",
       "\\item 'Fence'\n",
       "\\item 'Misc.Feature'\n",
       "\\item 'Misc.Val'\n",
       "\\item 'Mo.Sold'\n",
       "\\item 'Yr.Sold'\n",
       "\\item 'Sale.Type'\n",
       "\\item 'Sale.Condition'\n",
       "\\item 'SalePrice'\n",
       "\\end{enumerate*}\n"
      ],
      "text/markdown": [
       "1. 'Order'\n",
       "2. 'PID'\n",
       "3. 'MS.SubClass'\n",
       "4. 'MS.Zoning'\n",
       "5. 'Lot.Frontage'\n",
       "6. 'Lot.Area'\n",
       "7. 'Street'\n",
       "8. 'Alley'\n",
       "9. 'Lot.Shape'\n",
       "10. 'Land.Contour'\n",
       "11. 'Utilities'\n",
       "12. 'Lot.Config'\n",
       "13. 'Land.Slope'\n",
       "14. 'Neighborhood'\n",
       "15. 'Condition.1'\n",
       "16. 'Condition.2'\n",
       "17. 'Bldg.Type'\n",
       "18. 'House.Style'\n",
       "19. 'Overall.Qual'\n",
       "20. 'Overall.Cond'\n",
       "21. 'Year.Built'\n",
       "22. 'Year.Remod.Add'\n",
       "23. 'Roof.Style'\n",
       "24. 'Roof.Matl'\n",
       "25. 'Exterior.1st'\n",
       "26. 'Exterior.2nd'\n",
       "27. 'Mas.Vnr.Type'\n",
       "28. 'Mas.Vnr.Area'\n",
       "29. 'Exter.Qual'\n",
       "30. 'Exter.Cond'\n",
       "31. 'Foundation'\n",
       "32. 'Bsmt.Qual'\n",
       "33. 'Bsmt.Cond'\n",
       "34. 'Bsmt.Exposure'\n",
       "35. 'BsmtFin.Type.1'\n",
       "36. 'BsmtFin.SF.1'\n",
       "37. 'BsmtFin.Type.2'\n",
       "38. 'BsmtFin.SF.2'\n",
       "39. 'Bsmt.Unf.SF'\n",
       "40. 'Total.Bsmt.SF'\n",
       "41. 'Heating'\n",
       "42. 'Heating.QC'\n",
       "43. 'Central.Air'\n",
       "44. 'Electrical'\n",
       "45. 'X1st.Flr.SF'\n",
       "46. 'X2nd.Flr.SF'\n",
       "47. 'Low.Qual.Fin.SF'\n",
       "48. 'Gr.Liv.Area'\n",
       "49. 'Bsmt.Full.Bath'\n",
       "50. 'Bsmt.Half.Bath'\n",
       "51. 'Full.Bath'\n",
       "52. 'Half.Bath'\n",
       "53. 'Bedroom.AbvGr'\n",
       "54. 'Kitchen.AbvGr'\n",
       "55. 'Kitchen.Qual'\n",
       "56. 'TotRms.AbvGrd'\n",
       "57. 'Functional'\n",
       "58. 'Fireplaces'\n",
       "59. 'Fireplace.Qu'\n",
       "60. 'Garage.Type'\n",
       "61. 'Garage.Yr.Blt'\n",
       "62. 'Garage.Finish'\n",
       "63. 'Garage.Cars'\n",
       "64. 'Garage.Area'\n",
       "65. 'Garage.Qual'\n",
       "66. 'Garage.Cond'\n",
       "67. 'Paved.Drive'\n",
       "68. 'Wood.Deck.SF'\n",
       "69. 'Open.Porch.SF'\n",
       "70. 'Enclosed.Porch'\n",
       "71. 'X3Ssn.Porch'\n",
       "72. 'Screen.Porch'\n",
       "73. 'Pool.Area'\n",
       "74. 'Pool.QC'\n",
       "75. 'Fence'\n",
       "76. 'Misc.Feature'\n",
       "77. 'Misc.Val'\n",
       "78. 'Mo.Sold'\n",
       "79. 'Yr.Sold'\n",
       "80. 'Sale.Type'\n",
       "81. 'Sale.Condition'\n",
       "82. 'SalePrice'\n",
       "\n",
       "\n"
      ],
      "text/plain": [
       " [1] \"Order\"           \"PID\"             \"MS.SubClass\"     \"MS.Zoning\"      \n",
       " [5] \"Lot.Frontage\"    \"Lot.Area\"        \"Street\"          \"Alley\"          \n",
       " [9] \"Lot.Shape\"       \"Land.Contour\"    \"Utilities\"       \"Lot.Config\"     \n",
       "[13] \"Land.Slope\"      \"Neighborhood\"    \"Condition.1\"     \"Condition.2\"    \n",
       "[17] \"Bldg.Type\"       \"House.Style\"     \"Overall.Qual\"    \"Overall.Cond\"   \n",
       "[21] \"Year.Built\"      \"Year.Remod.Add\"  \"Roof.Style\"      \"Roof.Matl\"      \n",
       "[25] \"Exterior.1st\"    \"Exterior.2nd\"    \"Mas.Vnr.Type\"    \"Mas.Vnr.Area\"   \n",
       "[29] \"Exter.Qual\"      \"Exter.Cond\"      \"Foundation\"      \"Bsmt.Qual\"      \n",
       "[33] \"Bsmt.Cond\"       \"Bsmt.Exposure\"   \"BsmtFin.Type.1\"  \"BsmtFin.SF.1\"   \n",
       "[37] \"BsmtFin.Type.2\"  \"BsmtFin.SF.2\"    \"Bsmt.Unf.SF\"     \"Total.Bsmt.SF\"  \n",
       "[41] \"Heating\"         \"Heating.QC\"      \"Central.Air\"     \"Electrical\"     \n",
       "[45] \"X1st.Flr.SF\"     \"X2nd.Flr.SF\"     \"Low.Qual.Fin.SF\" \"Gr.Liv.Area\"    \n",
       "[49] \"Bsmt.Full.Bath\"  \"Bsmt.Half.Bath\"  \"Full.Bath\"       \"Half.Bath\"      \n",
       "[53] \"Bedroom.AbvGr\"   \"Kitchen.AbvGr\"   \"Kitchen.Qual\"    \"TotRms.AbvGrd\"  \n",
       "[57] \"Functional\"      \"Fireplaces\"      \"Fireplace.Qu\"    \"Garage.Type\"    \n",
       "[61] \"Garage.Yr.Blt\"   \"Garage.Finish\"   \"Garage.Cars\"     \"Garage.Area\"    \n",
       "[65] \"Garage.Qual\"     \"Garage.Cond\"     \"Paved.Drive\"     \"Wood.Deck.SF\"   \n",
       "[69] \"Open.Porch.SF\"   \"Enclosed.Porch\"  \"X3Ssn.Porch\"     \"Screen.Porch\"   \n",
       "[73] \"Pool.Area\"       \"Pool.QC\"         \"Fence\"           \"Misc.Feature\"   \n",
       "[77] \"Misc.Val\"        \"Mo.Sold\"         \"Yr.Sold\"         \"Sale.Type\"      \n",
       "[81] \"Sale.Condition\"  \"SalePrice\"      "
      ]
     },
     "metadata": {},
     "output_type": "display_data"
    }
   ],
   "source": [
    "names(ames_housing)"
   ]
  },
  {
   "cell_type": "code",
   "execution_count": 4,
   "metadata": {
    "vscode": {
     "languageId": "r"
    }
   },
   "outputs": [
    {
     "data": {
      "text/html": [
       "<table class=\"dataframe\">\n",
       "<caption>A data.frame: 2930 × 21</caption>\n",
       "<thead>\n",
       "\t<tr><th scope=col>SalePrice</th><th scope=col>MS.Zoning</th><th scope=col>Lot.Area</th><th scope=col>Lot.Shape</th><th scope=col>Land.Contour</th><th scope=col>Utilities</th><th scope=col>Overall.Qual</th><th scope=col>Overall.Cond</th><th scope=col>Year.Built</th><th scope=col>Foundation</th><th scope=col>⋯</th><th scope=col>Central.Air</th><th scope=col>Gr.Liv.Area</th><th scope=col>Bedroom.AbvGr</th><th scope=col>Kitchen.AbvGr</th><th scope=col>TotRms.AbvGrd</th><th scope=col>Garage.Type</th><th scope=col>Garage.Area</th><th scope=col>Pool.Area</th><th scope=col>Fence</th><th scope=col>Yr.Sold</th></tr>\n",
       "\t<tr><th scope=col>&lt;int&gt;</th><th scope=col>&lt;fct&gt;</th><th scope=col>&lt;int&gt;</th><th scope=col>&lt;fct&gt;</th><th scope=col>&lt;fct&gt;</th><th scope=col>&lt;fct&gt;</th><th scope=col>&lt;int&gt;</th><th scope=col>&lt;int&gt;</th><th scope=col>&lt;int&gt;</th><th scope=col>&lt;fct&gt;</th><th scope=col>⋯</th><th scope=col>&lt;fct&gt;</th><th scope=col>&lt;int&gt;</th><th scope=col>&lt;int&gt;</th><th scope=col>&lt;int&gt;</th><th scope=col>&lt;int&gt;</th><th scope=col>&lt;fct&gt;</th><th scope=col>&lt;int&gt;</th><th scope=col>&lt;int&gt;</th><th scope=col>&lt;fct&gt;</th><th scope=col>&lt;int&gt;</th></tr>\n",
       "</thead>\n",
       "<tbody>\n",
       "\t<tr><td>215000</td><td>RL</td><td>31770</td><td>IR1</td><td>Lvl</td><td>AllPub</td><td>6</td><td>5</td><td>1960</td><td>CBlock</td><td>⋯</td><td>Y</td><td>1656</td><td>3</td><td>1</td><td>7</td><td>Attchd</td><td>528</td><td>0</td><td>0</td><td>2010</td></tr>\n",
       "\t<tr><td>105000</td><td>RH</td><td>11622</td><td>Reg</td><td>Lvl</td><td>AllPub</td><td>5</td><td>6</td><td>1961</td><td>CBlock</td><td>⋯</td><td>Y</td><td> 896</td><td>2</td><td>1</td><td>5</td><td>Attchd</td><td>730</td><td>0</td><td>1</td><td>2010</td></tr>\n",
       "\t<tr><td>172000</td><td>RL</td><td>14267</td><td>IR1</td><td>Lvl</td><td>AllPub</td><td>6</td><td>6</td><td>1958</td><td>CBlock</td><td>⋯</td><td>Y</td><td>1329</td><td>3</td><td>1</td><td>6</td><td>Attchd</td><td>312</td><td>0</td><td>0</td><td>2010</td></tr>\n",
       "\t<tr><td>244000</td><td>RL</td><td>11160</td><td>Reg</td><td>Lvl</td><td>AllPub</td><td>7</td><td>5</td><td>1968</td><td>CBlock</td><td>⋯</td><td>Y</td><td>2110</td><td>3</td><td>1</td><td>8</td><td>Attchd</td><td>522</td><td>0</td><td>0</td><td>2010</td></tr>\n",
       "\t<tr><td>⋮</td><td>⋮</td><td>⋮</td><td>⋮</td><td>⋮</td><td>⋮</td><td>⋮</td><td>⋮</td><td>⋮</td><td>⋮</td><td>⋱</td><td>⋮</td><td>⋮</td><td>⋮</td><td>⋮</td><td>⋮</td><td>⋮</td><td>⋮</td><td>⋮</td><td>⋮</td><td>⋮</td></tr>\n",
       "\t<tr><td>131000</td><td>RL</td><td> 8885</td><td>IR1</td><td>Low</td><td>AllPub</td><td>5</td><td>5</td><td>1983</td><td>CBlock</td><td>⋯</td><td>Y</td><td> 902</td><td>2</td><td>1</td><td>5</td><td>Attchd</td><td>484</td><td>0</td><td>1</td><td>2006</td></tr>\n",
       "\t<tr><td>132000</td><td>RL</td><td>10441</td><td>Reg</td><td>Lvl</td><td>AllPub</td><td>5</td><td>5</td><td>1992</td><td>PConc </td><td>⋯</td><td>Y</td><td> 970</td><td>3</td><td>1</td><td>6</td><td>NA    </td><td>  0</td><td>0</td><td>1</td><td>2006</td></tr>\n",
       "\t<tr><td>170000</td><td>RL</td><td>10010</td><td>Reg</td><td>Lvl</td><td>AllPub</td><td>5</td><td>5</td><td>1974</td><td>CBlock</td><td>⋯</td><td>Y</td><td>1389</td><td>2</td><td>1</td><td>6</td><td>Attchd</td><td>418</td><td>0</td><td>0</td><td>2006</td></tr>\n",
       "\t<tr><td>188000</td><td>RL</td><td> 9627</td><td>Reg</td><td>Lvl</td><td>AllPub</td><td>7</td><td>5</td><td>1993</td><td>PConc </td><td>⋯</td><td>Y</td><td>2000</td><td>3</td><td>1</td><td>9</td><td>Attchd</td><td>650</td><td>0</td><td>0</td><td>2006</td></tr>\n",
       "</tbody>\n",
       "</table>\n"
      ],
      "text/latex": [
       "A data.frame: 2930 × 21\n",
       "\\begin{tabular}{lllllllllllllllllllll}\n",
       " SalePrice & MS.Zoning & Lot.Area & Lot.Shape & Land.Contour & Utilities & Overall.Qual & Overall.Cond & Year.Built & Foundation & ⋯ & Central.Air & Gr.Liv.Area & Bedroom.AbvGr & Kitchen.AbvGr & TotRms.AbvGrd & Garage.Type & Garage.Area & Pool.Area & Fence & Yr.Sold\\\\\n",
       " <int> & <fct> & <int> & <fct> & <fct> & <fct> & <int> & <int> & <int> & <fct> & ⋯ & <fct> & <int> & <int> & <int> & <int> & <fct> & <int> & <int> & <fct> & <int>\\\\\n",
       "\\hline\n",
       "\t 215000 & RL & 31770 & IR1 & Lvl & AllPub & 6 & 5 & 1960 & CBlock & ⋯ & Y & 1656 & 3 & 1 & 7 & Attchd & 528 & 0 & 0 & 2010\\\\\n",
       "\t 105000 & RH & 11622 & Reg & Lvl & AllPub & 5 & 6 & 1961 & CBlock & ⋯ & Y &  896 & 2 & 1 & 5 & Attchd & 730 & 0 & 1 & 2010\\\\\n",
       "\t 172000 & RL & 14267 & IR1 & Lvl & AllPub & 6 & 6 & 1958 & CBlock & ⋯ & Y & 1329 & 3 & 1 & 6 & Attchd & 312 & 0 & 0 & 2010\\\\\n",
       "\t 244000 & RL & 11160 & Reg & Lvl & AllPub & 7 & 5 & 1968 & CBlock & ⋯ & Y & 2110 & 3 & 1 & 8 & Attchd & 522 & 0 & 0 & 2010\\\\\n",
       "\t ⋮ & ⋮ & ⋮ & ⋮ & ⋮ & ⋮ & ⋮ & ⋮ & ⋮ & ⋮ & ⋱ & ⋮ & ⋮ & ⋮ & ⋮ & ⋮ & ⋮ & ⋮ & ⋮ & ⋮ & ⋮\\\\\n",
       "\t 131000 & RL &  8885 & IR1 & Low & AllPub & 5 & 5 & 1983 & CBlock & ⋯ & Y &  902 & 2 & 1 & 5 & Attchd & 484 & 0 & 1 & 2006\\\\\n",
       "\t 132000 & RL & 10441 & Reg & Lvl & AllPub & 5 & 5 & 1992 & PConc  & ⋯ & Y &  970 & 3 & 1 & 6 & NA     &   0 & 0 & 1 & 2006\\\\\n",
       "\t 170000 & RL & 10010 & Reg & Lvl & AllPub & 5 & 5 & 1974 & CBlock & ⋯ & Y & 1389 & 2 & 1 & 6 & Attchd & 418 & 0 & 0 & 2006\\\\\n",
       "\t 188000 & RL &  9627 & Reg & Lvl & AllPub & 7 & 5 & 1993 & PConc  & ⋯ & Y & 2000 & 3 & 1 & 9 & Attchd & 650 & 0 & 0 & 2006\\\\\n",
       "\\end{tabular}\n"
      ],
      "text/markdown": [
       "\n",
       "A data.frame: 2930 × 21\n",
       "\n",
       "| SalePrice &lt;int&gt; | MS.Zoning &lt;fct&gt; | Lot.Area &lt;int&gt; | Lot.Shape &lt;fct&gt; | Land.Contour &lt;fct&gt; | Utilities &lt;fct&gt; | Overall.Qual &lt;int&gt; | Overall.Cond &lt;int&gt; | Year.Built &lt;int&gt; | Foundation &lt;fct&gt; | ⋯ ⋯ | Central.Air &lt;fct&gt; | Gr.Liv.Area &lt;int&gt; | Bedroom.AbvGr &lt;int&gt; | Kitchen.AbvGr &lt;int&gt; | TotRms.AbvGrd &lt;int&gt; | Garage.Type &lt;fct&gt; | Garage.Area &lt;int&gt; | Pool.Area &lt;int&gt; | Fence &lt;fct&gt; | Yr.Sold &lt;int&gt; |\n",
       "|---|---|---|---|---|---|---|---|---|---|---|---|---|---|---|---|---|---|---|---|---|\n",
       "| 215000 | RL | 31770 | IR1 | Lvl | AllPub | 6 | 5 | 1960 | CBlock | ⋯ | Y | 1656 | 3 | 1 | 7 | Attchd | 528 | 0 | 0 | 2010 |\n",
       "| 105000 | RH | 11622 | Reg | Lvl | AllPub | 5 | 6 | 1961 | CBlock | ⋯ | Y |  896 | 2 | 1 | 5 | Attchd | 730 | 0 | 1 | 2010 |\n",
       "| 172000 | RL | 14267 | IR1 | Lvl | AllPub | 6 | 6 | 1958 | CBlock | ⋯ | Y | 1329 | 3 | 1 | 6 | Attchd | 312 | 0 | 0 | 2010 |\n",
       "| 244000 | RL | 11160 | Reg | Lvl | AllPub | 7 | 5 | 1968 | CBlock | ⋯ | Y | 2110 | 3 | 1 | 8 | Attchd | 522 | 0 | 0 | 2010 |\n",
       "| ⋮ | ⋮ | ⋮ | ⋮ | ⋮ | ⋮ | ⋮ | ⋮ | ⋮ | ⋮ | ⋱ | ⋮ | ⋮ | ⋮ | ⋮ | ⋮ | ⋮ | ⋮ | ⋮ | ⋮ | ⋮ |\n",
       "| 131000 | RL |  8885 | IR1 | Low | AllPub | 5 | 5 | 1983 | CBlock | ⋯ | Y |  902 | 2 | 1 | 5 | Attchd | 484 | 0 | 1 | 2006 |\n",
       "| 132000 | RL | 10441 | Reg | Lvl | AllPub | 5 | 5 | 1992 | PConc  | ⋯ | Y |  970 | 3 | 1 | 6 | NA     |   0 | 0 | 1 | 2006 |\n",
       "| 170000 | RL | 10010 | Reg | Lvl | AllPub | 5 | 5 | 1974 | CBlock | ⋯ | Y | 1389 | 2 | 1 | 6 | Attchd | 418 | 0 | 0 | 2006 |\n",
       "| 188000 | RL |  9627 | Reg | Lvl | AllPub | 7 | 5 | 1993 | PConc  | ⋯ | Y | 2000 | 3 | 1 | 9 | Attchd | 650 | 0 | 0 | 2006 |\n",
       "\n"
      ],
      "text/plain": [
       "     SalePrice MS.Zoning Lot.Area Lot.Shape Land.Contour Utilities Overall.Qual\n",
       "1    215000    RL        31770    IR1       Lvl          AllPub    6           \n",
       "2    105000    RH        11622    Reg       Lvl          AllPub    5           \n",
       "3    172000    RL        14267    IR1       Lvl          AllPub    6           \n",
       "4    244000    RL        11160    Reg       Lvl          AllPub    7           \n",
       "⋮    ⋮         ⋮         ⋮        ⋮         ⋮            ⋮         ⋮           \n",
       "2927 131000    RL         8885    IR1       Low          AllPub    5           \n",
       "2928 132000    RL        10441    Reg       Lvl          AllPub    5           \n",
       "2929 170000    RL        10010    Reg       Lvl          AllPub    5           \n",
       "2930 188000    RL         9627    Reg       Lvl          AllPub    7           \n",
       "     Overall.Cond Year.Built Foundation ⋯ Central.Air Gr.Liv.Area Bedroom.AbvGr\n",
       "1    5            1960       CBlock     ⋯ Y           1656        3            \n",
       "2    6            1961       CBlock     ⋯ Y            896        2            \n",
       "3    6            1958       CBlock     ⋯ Y           1329        3            \n",
       "4    5            1968       CBlock     ⋯ Y           2110        3            \n",
       "⋮    ⋮            ⋮          ⋮          ⋱ ⋮           ⋮           ⋮            \n",
       "2927 5            1983       CBlock     ⋯ Y            902        2            \n",
       "2928 5            1992       PConc      ⋯ Y            970        3            \n",
       "2929 5            1974       CBlock     ⋯ Y           1389        2            \n",
       "2930 5            1993       PConc      ⋯ Y           2000        3            \n",
       "     Kitchen.AbvGr TotRms.AbvGrd Garage.Type Garage.Area Pool.Area Fence\n",
       "1    1             7             Attchd      528         0         0    \n",
       "2    1             5             Attchd      730         0         1    \n",
       "3    1             6             Attchd      312         0         0    \n",
       "4    1             8             Attchd      522         0         0    \n",
       "⋮    ⋮             ⋮             ⋮           ⋮           ⋮         ⋮    \n",
       "2927 1             5             Attchd      484         0         1    \n",
       "2928 1             6             NA            0         0         1    \n",
       "2929 1             6             Attchd      418         0         0    \n",
       "2930 1             9             Attchd      650         0         0    \n",
       "     Yr.Sold\n",
       "1    2010   \n",
       "2    2010   \n",
       "3    2010   \n",
       "4    2010   \n",
       "⋮    ⋮      \n",
       "2927 2006   \n",
       "2928 2006   \n",
       "2929 2006   \n",
       "2930 2006   "
      ]
     },
     "metadata": {},
     "output_type": "display_data"
    }
   ],
   "source": [
    "house <- ames_housing %>%\n",
    "    select(\"SalePrice\", \"MS.Zoning\", \"Lot.Area\", \"Lot.Shape\", \"Land.Contour\",\n",
    "        \"Utilities\", \"Overall.Qual\", \"Overall.Cond\", \"Year.Built\", \"Foundation\",\n",
    "        \"Heating\", \"Central.Air\", \"Gr.Liv.Area\", \"Bedroom.AbvGr\", \"Kitchen.AbvGr\",\n",
    "        \"TotRms.AbvGrd\", \"Garage.Type\", \"Garage.Area\", \"Pool.Area\", \"Fence\",\n",
    "        \"Yr.Sold\"\n",
    "    )\n",
    "\n",
    "house[sapply(house, is.character)] <- lapply(house[sapply(house, is.character)], as.factor)\n",
    "house$Fence <- factor(ifelse(is.na(house$Fence), 0, 1))\n",
    "\n",
    "house"
   ]
  },
  {
   "cell_type": "code",
   "execution_count": 5,
   "metadata": {
    "vscode": {
     "languageId": "r"
    }
   },
   "outputs": [
    {
     "name": "stdout",
     "output_type": "stream",
     "text": [
      "'data.frame':\t2930 obs. of  21 variables:\n",
      " $ SalePrice    : int  215000 105000 172000 244000 189900 195500 213500 191500 236500 189000 ...\n",
      " $ MS.Zoning    : Factor w/ 7 levels \"A (agr)\",\"C (all)\",..: 6 5 6 6 6 6 6 6 6 6 ...\n",
      " $ Lot.Area     : int  31770 11622 14267 11160 13830 9978 4920 5005 5389 7500 ...\n",
      " $ Lot.Shape    : Factor w/ 4 levels \"IR1\",\"IR2\",\"IR3\",..: 1 4 1 4 1 1 4 1 1 4 ...\n",
      " $ Land.Contour : Factor w/ 4 levels \"Bnk\",\"HLS\",\"Low\",..: 4 4 4 4 4 4 4 2 4 4 ...\n",
      " $ Utilities    : Factor w/ 3 levels \"AllPub\",\"NoSeWa\",..: 1 1 1 1 1 1 1 1 1 1 ...\n",
      " $ Overall.Qual : int  6 5 6 7 5 6 8 8 8 7 ...\n",
      " $ Overall.Cond : int  5 6 6 5 5 6 5 5 5 5 ...\n",
      " $ Year.Built   : int  1960 1961 1958 1968 1997 1998 2001 1992 1995 1999 ...\n",
      " $ Foundation   : Factor w/ 6 levels \"BrkTil\",\"CBlock\",..: 2 2 2 2 3 3 3 3 3 3 ...\n",
      " $ Heating      : Factor w/ 6 levels \"Floor\",\"GasA\",..: 2 2 2 2 2 2 2 2 2 2 ...\n",
      " $ Central.Air  : Factor w/ 2 levels \"N\",\"Y\": 2 2 2 2 2 2 2 2 2 2 ...\n",
      " $ Gr.Liv.Area  : int  1656 896 1329 2110 1629 1604 1338 1280 1616 1804 ...\n",
      " $ Bedroom.AbvGr: int  3 2 3 3 3 3 2 2 2 3 ...\n",
      " $ Kitchen.AbvGr: int  1 1 1 1 1 1 1 1 1 1 ...\n",
      " $ TotRms.AbvGrd: int  7 5 6 8 6 7 6 5 5 7 ...\n",
      " $ Garage.Type  : Factor w/ 6 levels \"2Types\",\"Attchd\",..: 2 2 2 2 2 2 2 2 2 2 ...\n",
      " $ Garage.Area  : int  528 730 312 522 482 470 582 506 608 442 ...\n",
      " $ Pool.Area    : int  0 0 0 0 0 0 0 0 0 0 ...\n",
      " $ Fence        : Factor w/ 2 levels \"0\",\"1\": 1 2 1 1 2 1 1 1 1 1 ...\n",
      " $ Yr.Sold      : int  2010 2010 2010 2010 2010 2010 2010 2010 2010 2010 ...\n"
     ]
    }
   ],
   "source": [
    "str(house)"
   ]
  },
  {
   "cell_type": "code",
   "execution_count": 6,
   "metadata": {
    "vscode": {
     "languageId": "r"
    }
   },
   "outputs": [
    {
     "data": {
      "text/plain": [
       "\n",
       "Call:\n",
       "lm(formula = SalePrice ~ ., data = house)\n",
       "\n",
       "Residuals:\n",
       "    Min      1Q  Median      3Q     Max \n",
       "-429849  -18900   -1594   15977  276929 \n",
       "\n",
       "Coefficients:\n",
       "                     Estimate Std. Error t value Pr(>|t|)    \n",
       "(Intercept)         1.648e+04  1.044e+06   0.016 0.987405    \n",
       "MS.ZoningC (all)   -2.546e+03  2.826e+04  -0.090 0.928211    \n",
       "MS.ZoningFV        -5.317e+02  2.688e+04  -0.020 0.984220    \n",
       "MS.ZoningI (all)    3.662e+03  3.950e+04   0.093 0.926144    \n",
       "MS.ZoningRH        -4.128e+03  2.777e+04  -0.149 0.881855    \n",
       "MS.ZoningRL         1.020e+04  2.663e+04   0.383 0.701658    \n",
       "MS.ZoningRM        -1.421e+03  2.675e+04  -0.053 0.957640    \n",
       "Lot.Area            8.042e-01  1.028e-01   7.822 7.35e-15 ***\n",
       "Lot.ShapeIR2        1.438e+03  4.358e+03   0.330 0.741356    \n",
       "Lot.ShapeIR3       -3.439e+04  9.581e+03  -3.590 0.000337 ***\n",
       "Lot.ShapeReg       -8.242e+02  1.568e+03  -0.526 0.599232    \n",
       "Land.ContourHLS     4.258e+04  4.954e+03   8.594  < 2e-16 ***\n",
       "Land.ContourLow     1.972e+04  6.269e+03   3.145 0.001676 ** \n",
       "Land.ContourLvl     1.571e+04  3.696e+03   4.251 2.20e-05 ***\n",
       "UtilitiesNoSeWa    -3.242e+04  3.615e+04  -0.897 0.369940    \n",
       "UtilitiesNoSewr    -3.709e+03  2.930e+04  -0.127 0.899268    \n",
       "Overall.Qual        2.011e+04  8.480e+02  23.716  < 2e-16 ***\n",
       "Overall.Cond        6.177e+03  7.466e+02   8.273  < 2e-16 ***\n",
       "Year.Built          3.963e+02  4.945e+01   8.014 1.62e-15 ***\n",
       "FoundationCBlock   -1.484e+03  2.988e+03  -0.496 0.619604    \n",
       "FoundationPConc     2.947e+03  3.559e+03   0.828 0.407698    \n",
       "FoundationSlab     -1.527e+04  6.964e+03  -2.193 0.028390 *  \n",
       "FoundationStone    -1.594e+03  1.187e+04  -0.134 0.893186    \n",
       "FoundationWood     -2.382e+04  1.653e+04  -1.441 0.149732    \n",
       "HeatingGasA        -1.576e+04  3.584e+04  -0.440 0.660095    \n",
       "HeatingGasW        -1.870e+04  3.648e+04  -0.513 0.608329    \n",
       "HeatingGrav        -1.190e+04  4.127e+04  -0.288 0.773086    \n",
       "HeatingOthW        -6.587e+04  5.049e+04  -1.305 0.192100    \n",
       "HeatingWall         1.459e+04  3.928e+04   0.372 0.710273    \n",
       "Central.AirY       -6.061e+03  3.766e+03  -1.610 0.107619    \n",
       "Gr.Liv.Area         6.194e+01  2.834e+00  21.855  < 2e-16 ***\n",
       "Bedroom.AbvGr      -1.109e+04  1.226e+03  -9.043  < 2e-16 ***\n",
       "Kitchen.AbvGr      -2.454e+04  4.164e+03  -5.895 4.22e-09 ***\n",
       "TotRms.AbvGrd       2.729e+03  8.966e+02   3.044 0.002357 ** \n",
       "Garage.TypeAttchd   2.246e+04  7.836e+03   2.867 0.004180 ** \n",
       "Garage.TypeBasment  1.898e+04  9.906e+03   1.916 0.055456 .  \n",
       "Garage.TypeBuiltIn  1.960e+04  8.358e+03   2.345 0.019114 *  \n",
       "Garage.TypeCarPort  2.239e+04  1.208e+04   1.854 0.063829 .  \n",
       "Garage.TypeDetchd   2.103e+04  7.814e+03   2.691 0.007170 ** \n",
       "Garage.Area         6.660e+01  4.861e+00  13.703  < 2e-16 ***\n",
       "Pool.Area          -2.413e+01  1.904e+01  -1.267 0.205213    \n",
       "Fence1              2.119e+03  1.830e+03   1.158 0.247095    \n",
       "Yr.Sold            -4.444e+02  5.184e+02  -0.857 0.391378    \n",
       "---\n",
       "Signif. codes:  0 ‘***’ 0.001 ‘**’ 0.01 ‘*’ 0.05 ‘.’ 0.1 ‘ ’ 1\n",
       "\n",
       "Residual standard error: 35570 on 2729 degrees of freedom\n",
       "  (158 observations deleted due to missingness)\n",
       "Multiple R-squared:  0.8033,\tAdjusted R-squared:  0.8003 \n",
       "F-statistic: 265.3 on 42 and 2729 DF,  p-value: < 2.2e-16\n"
      ]
     },
     "metadata": {},
     "output_type": "display_data"
    }
   ],
   "source": [
    "linear_reg = lm(SalePrice~.,data = house)\n",
    "summary(linear_reg)"
   ]
  },
  {
   "cell_type": "code",
   "execution_count": 7,
   "metadata": {
    "vscode": {
     "languageId": "r"
    }
   },
   "outputs": [],
   "source": [
    "predictors <- setdiff(names(house), \"SalePrice\")\n",
    "\n",
    "# Initialize with the null model (intercept only)\n",
    "current_formula <- as.formula(\"SalePrice ~ 1\")\n",
    "current_model <- lm(current_formula, data = house)\n",
    "aic_values <- c(AIC(current_model))\n",
    "num_predictors <- 0\n",
    "selected <- c()\n",
    "\n",
    "# Forward selection: iteratively add one predictor that gives the lowest AIC.\n",
    "for(i in 1:length(predictors)) {\n",
    "  remaining <- setdiff(predictors, selected)\n",
    "  \n",
    "  aic_candidates <- sapply(remaining, function(var) {\n",
    "    new_formula <- as.formula(paste(\"SalePrice ~\", paste(c(selected, var), collapse = \" + \")))\n",
    "    AIC(lm(new_formula, data = house))\n",
    "  })\n",
    "  \n",
    "  best_var <- names(which.min(aic_candidates))\n",
    "  selected <- c(selected, best_var)\n",
    "  \n",
    "  current_formula <- as.formula(paste(\"SalePrice ~\", paste(selected, collapse = \" + \")))\n",
    "  current_model <- lm(current_formula, data = house)\n",
    "  \n",
    "  aic_values <- c(aic_values, AIC(current_model))\n",
    "  num_predictors <- c(num_predictors, length(selected))\n",
    "}"
   ]
  },
  {
   "cell_type": "code",
   "execution_count": 8,
   "metadata": {
    "vscode": {
     "languageId": "r"
    }
   },
   "outputs": [
    {
     "data": {
      "image/png": "[encoded data removed]",
      "text/plain": [
       "Plot with title “Change in AIC with Forward Selection”"
      ]
     },
     "metadata": {
      "image/png": {
       "height": 420,
       "width": 420
      }
     },
     "output_type": "display_data"
    }
   ],
   "source": [
    "# Plot AIC vs. number of predictors\n",
    "plot(0:length(predictors), aic_values, type = \"b\",\n",
    "     xlab = \"Number of predictors\", ylab = \"AIC\",\n",
    "     main = \"Change in AIC with Forward Selection\")\n",
    "\n",
    "min_index <- which.min(aic_values)\n",
    "min_num_pred <- num_predictors[min_index]\n",
    "abline(v = min_num_pred, col = \"red\", lty = 2)"
   ]
  },
  {
   "cell_type": "code",
   "execution_count": 9,
   "metadata": {
    "vscode": {
     "languageId": "r"
    }
   },
   "outputs": [],
   "source": [
    "s = regsubsets(SalePrice~., data=house, method=\"exhaustive\")\n",
    "ss = summary(s)"
   ]
  },
  {
   "cell_type": "code",
   "execution_count": 10,
   "metadata": {
    "vscode": {
     "languageId": "r"
    }
   },
   "outputs": [
    {
     "data": {
      "text/plain": [
       "Subset selection object\n",
       "Call: regsubsets.formula(SalePrice ~ ., data = house, method = \"exhaustive\")\n",
       "42 Variables  (and intercept)\n",
       "                   Forced in Forced out\n",
       "MS.ZoningC (all)       FALSE      FALSE\n",
       "MS.ZoningFV            FALSE      FALSE\n",
       "MS.ZoningI (all)       FALSE      FALSE\n",
       "MS.ZoningRH            FALSE      FALSE\n",
       "MS.ZoningRL            FALSE      FALSE\n",
       "MS.ZoningRM            FALSE      FALSE\n",
       "Lot.Area               FALSE      FALSE\n",
       "Lot.ShapeIR2           FALSE      FALSE\n",
       "Lot.ShapeIR3           FALSE      FALSE\n",
       "Lot.ShapeReg           FALSE      FALSE\n",
       "Land.ContourHLS        FALSE      FALSE\n",
       "Land.ContourLow        FALSE      FALSE\n",
       "Land.ContourLvl        FALSE      FALSE\n",
       "UtilitiesNoSeWa        FALSE      FALSE\n",
       "UtilitiesNoSewr        FALSE      FALSE\n",
       "Overall.Qual           FALSE      FALSE\n",
       "Overall.Cond           FALSE      FALSE\n",
       "Year.Built             FALSE      FALSE\n",
       "FoundationCBlock       FALSE      FALSE\n",
       "FoundationPConc        FALSE      FALSE\n",
       "FoundationSlab         FALSE      FALSE\n",
       "FoundationStone        FALSE      FALSE\n",
       "FoundationWood         FALSE      FALSE\n",
       "HeatingGasA            FALSE      FALSE\n",
       "HeatingGasW            FALSE      FALSE\n",
       "HeatingGrav            FALSE      FALSE\n",
       "HeatingOthW            FALSE      FALSE\n",
       "HeatingWall            FALSE      FALSE\n",
       "Central.AirY           FALSE      FALSE\n",
       "Gr.Liv.Area            FALSE      FALSE\n",
       "Bedroom.AbvGr          FALSE      FALSE\n",
       "Kitchen.AbvGr          FALSE      FALSE\n",
       "TotRms.AbvGrd          FALSE      FALSE\n",
       "Garage.TypeAttchd      FALSE      FALSE\n",
       "Garage.TypeBasment     FALSE      FALSE\n",
       "Garage.TypeBuiltIn     FALSE      FALSE\n",
       "Garage.TypeCarPort     FALSE      FALSE\n",
       "Garage.TypeDetchd      FALSE      FALSE\n",
       "Garage.Area            FALSE      FALSE\n",
       "Pool.Area              FALSE      FALSE\n",
       "Fence1                 FALSE      FALSE\n",
       "Yr.Sold                FALSE      FALSE\n",
       "1 subsets of each size up to 8\n",
       "Selection Algorithm: exhaustive\n",
       "         MS.ZoningC (all) MS.ZoningFV MS.ZoningI (all) MS.ZoningRH MS.ZoningRL\n",
       "1  ( 1 ) \" \"              \" \"         \" \"              \" \"         \" \"        \n",
       "2  ( 1 ) \" \"              \" \"         \" \"              \" \"         \" \"        \n",
       "3  ( 1 ) \" \"              \" \"         \" \"              \" \"         \" \"        \n",
       "4  ( 1 ) \" \"              \" \"         \" \"              \" \"         \" \"        \n",
       "5  ( 1 ) \" \"              \" \"         \" \"              \" \"         \" \"        \n",
       "6  ( 1 ) \" \"              \" \"         \" \"              \" \"         \" \"        \n",
       "7  ( 1 ) \" \"              \" \"         \" \"              \" \"         \" \"        \n",
       "8  ( 1 ) \" \"              \" \"         \" \"              \" \"         \" \"        \n",
       "         MS.ZoningRM Lot.Area Lot.ShapeIR2 Lot.ShapeIR3 Lot.ShapeReg\n",
       "1  ( 1 ) \" \"         \" \"      \" \"          \" \"          \" \"         \n",
       "2  ( 1 ) \" \"         \" \"      \" \"          \" \"          \" \"         \n",
       "3  ( 1 ) \" \"         \" \"      \" \"          \" \"          \" \"         \n",
       "4  ( 1 ) \" \"         \" \"      \" \"          \" \"          \" \"         \n",
       "5  ( 1 ) \" \"         \"*\"      \" \"          \" \"          \" \"         \n",
       "6  ( 1 ) \" \"         \"*\"      \" \"          \" \"          \" \"         \n",
       "7  ( 1 ) \" \"         \"*\"      \" \"          \" \"          \" \"         \n",
       "8  ( 1 ) \" \"         \"*\"      \" \"          \" \"          \" \"         \n",
       "         Land.ContourHLS Land.ContourLow Land.ContourLvl UtilitiesNoSeWa\n",
       "1  ( 1 ) \" \"             \" \"             \" \"             \" \"            \n",
       "2  ( 1 ) \" \"             \" \"             \" \"             \" \"            \n",
       "3  ( 1 ) \" \"             \" \"             \" \"             \" \"            \n",
       "4  ( 1 ) \" \"             \" \"             \" \"             \" \"            \n",
       "5  ( 1 ) \" \"             \" \"             \" \"             \" \"            \n",
       "6  ( 1 ) \" \"             \" \"             \" \"             \" \"            \n",
       "7  ( 1 ) \" \"             \" \"             \" \"             \" \"            \n",
       "8  ( 1 ) \"*\"             \" \"             \" \"             \" \"            \n",
       "         UtilitiesNoSewr Overall.Qual Overall.Cond Year.Built FoundationCBlock\n",
       "1  ( 1 ) \" \"             \"*\"          \" \"          \" \"        \" \"             \n",
       "2  ( 1 ) \" \"             \"*\"          \" \"          \" \"        \" \"             \n",
       "3  ( 1 ) \" \"             \"*\"          \" \"          \" \"        \" \"             \n",
       "4  ( 1 ) \" \"             \"*\"          \" \"          \"*\"        \" \"             \n",
       "5  ( 1 ) \" \"             \"*\"          \" \"          \"*\"        \" \"             \n",
       "6  ( 1 ) \" \"             \"*\"          \" \"          \"*\"        \" \"             \n",
       "7  ( 1 ) \" \"             \"*\"          \"*\"          \"*\"        \" \"             \n",
       "8  ( 1 ) \" \"             \"*\"          \"*\"          \"*\"        \" \"             \n",
       "         FoundationPConc FoundationSlab FoundationStone FoundationWood\n",
       "1  ( 1 ) \" \"             \" \"            \" \"             \" \"           \n",
       "2  ( 1 ) \" \"             \" \"            \" \"             \" \"           \n",
       "3  ( 1 ) \" \"             \" \"            \" \"             \" \"           \n",
       "4  ( 1 ) \" \"             \" \"            \" \"             \" \"           \n",
       "5  ( 1 ) \" \"             \" \"            \" \"             \" \"           \n",
       "6  ( 1 ) \" \"             \" \"            \" \"             \" \"           \n",
       "7  ( 1 ) \" \"             \" \"            \" \"             \" \"           \n",
       "8  ( 1 ) \" \"             \" \"            \" \"             \" \"           \n",
       "         HeatingGasA HeatingGasW HeatingGrav HeatingOthW HeatingWall\n",
       "1  ( 1 ) \" \"         \" \"         \" \"         \" \"         \" \"        \n",
       "2  ( 1 ) \" \"         \" \"         \" \"         \" \"         \" \"        \n",
       "3  ( 1 ) \" \"         \" \"         \" \"         \" \"         \" \"        \n",
       "4  ( 1 ) \" \"         \" \"         \" \"         \" \"         \" \"        \n",
       "5  ( 1 ) \" \"         \" \"         \" \"         \" \"         \" \"        \n",
       "6  ( 1 ) \" \"         \" \"         \" \"         \" \"         \" \"        \n",
       "7  ( 1 ) \" \"         \" \"         \" \"         \" \"         \" \"        \n",
       "8  ( 1 ) \" \"         \" \"         \" \"         \" \"         \" \"        \n",
       "         Central.AirY Gr.Liv.Area Bedroom.AbvGr Kitchen.AbvGr TotRms.AbvGrd\n",
       "1  ( 1 ) \" \"          \" \"         \" \"           \" \"           \" \"          \n",
       "2  ( 1 ) \" \"          \"*\"         \" \"           \" \"           \" \"          \n",
       "3  ( 1 ) \" \"          \"*\"         \" \"           \" \"           \" \"          \n",
       "4  ( 1 ) \" \"          \"*\"         \" \"           \" \"           \" \"          \n",
       "5  ( 1 ) \" \"          \"*\"         \" \"           \" \"           \" \"          \n",
       "6  ( 1 ) \" \"          \"*\"         \"*\"           \" \"           \" \"          \n",
       "7  ( 1 ) \" \"          \"*\"         \"*\"           \" \"           \" \"          \n",
       "8  ( 1 ) \" \"          \"*\"         \"*\"           \" \"           \" \"          \n",
       "         Garage.TypeAttchd Garage.TypeBasment Garage.TypeBuiltIn\n",
       "1  ( 1 ) \" \"               \" \"                \" \"               \n",
       "2  ( 1 ) \" \"               \" \"                \" \"               \n",
       "3  ( 1 ) \" \"               \" \"                \" \"               \n",
       "4  ( 1 ) \" \"               \" \"                \" \"               \n",
       "5  ( 1 ) \" \"               \" \"                \" \"               \n",
       "6  ( 1 ) \" \"               \" \"                \" \"               \n",
       "7  ( 1 ) \" \"               \" \"                \" \"               \n",
       "8  ( 1 ) \" \"               \" \"                \" \"               \n",
       "         Garage.TypeCarPort Garage.TypeDetchd Garage.Area Pool.Area Fence1\n",
       "1  ( 1 ) \" \"                \" \"               \" \"         \" \"       \" \"   \n",
       "2  ( 1 ) \" \"                \" \"               \" \"         \" \"       \" \"   \n",
       "3  ( 1 ) \" \"                \" \"               \"*\"         \" \"       \" \"   \n",
       "4  ( 1 ) \" \"                \" \"               \"*\"         \" \"       \" \"   \n",
       "5  ( 1 ) \" \"                \" \"               \"*\"         \" \"       \" \"   \n",
       "6  ( 1 ) \" \"                \" \"               \"*\"         \" \"       \" \"   \n",
       "7  ( 1 ) \" \"                \" \"               \"*\"         \" \"       \" \"   \n",
       "8  ( 1 ) \" \"                \" \"               \"*\"         \" \"       \" \"   \n",
       "         Yr.Sold\n",
       "1  ( 1 ) \" \"    \n",
       "2  ( 1 ) \" \"    \n",
       "3  ( 1 ) \" \"    \n",
       "4  ( 1 ) \" \"    \n",
       "5  ( 1 ) \" \"    \n",
       "6  ( 1 ) \" \"    \n",
       "7  ( 1 ) \" \"    \n",
       "8  ( 1 ) \" \"    "
      ]
     },
     "metadata": {},
     "output_type": "display_data"
    }
   ],
   "source": [
    "ss"
   ]
  },
  {
   "cell_type": "code",
   "execution_count": null,
   "metadata": {
    "vscode": {
     "languageId": "r"
    }
   },
   "outputs": [],
   "source": []
  }
 ],
 "metadata": {
  "kernelspec": {
   "display_name": "R",
   "language": "R",
   "name": "ir"
  },
  "language_info": {
   "codemirror_mode": "r",
   "file_extension": ".r",
   "mimetype": "text/x-r-source",
   "name": "R",
   "pygments_lexer": "r",
   "version": "4.3.3"
  }
 },
 "nbformat": 4,
 "nbformat_minor": 2
}
